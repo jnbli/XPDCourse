{
 "cells": [
  {
   "cell_type": "markdown",
   "metadata": {},
   "source": [
    "# 1. Import Dependencies"
   ]
  },
  {
   "cell_type": "code",
   "execution_count": 1,
   "metadata": {
    "scrolled": false
   },
   "outputs": [
    {
     "name": "stdout",
     "output_type": "stream",
     "text": [
      "Requirement already satisfied: opencv-python in ./xpd/lib/python3.9/site-packages (4.5.4.60)\r\n",
      "Requirement already satisfied: numpy>=1.19.3 in ./xpd/lib/python3.9/site-packages (from opencv-python) (1.20.3)\r\n"
     ]
    }
   ],
   "source": [
    "!pip install opencv-python"
   ]
  },
  {
   "cell_type": "code",
   "execution_count": 2,
   "metadata": {},
   "outputs": [],
   "source": [
    "# Import opencv\n",
    "import cv2 \n",
    "\n",
    "# Import uuid\n",
    "import uuid\n",
    "\n",
    "# Import Operating System\n",
    "import os\n",
    "\n",
    "# Import time\n",
    "import time"
   ]
  },
  {
   "cell_type": "markdown",
   "metadata": {},
   "source": [
    "# 2. Define Images to Collect"
   ]
  },
  {
   "cell_type": "code",
   "execution_count": 3,
   "metadata": {},
   "outputs": [],
   "source": [
    "labels = ['package']\n",
    "number_imgs = 50"
   ]
  },
  {
   "cell_type": "markdown",
   "metadata": {},
   "source": [
    "# 3. Setup Folders "
   ]
  },
  {
   "cell_type": "code",
   "execution_count": 4,
   "metadata": {},
   "outputs": [],
   "source": [
    "IMAGES_PATH = os.path.join('Tensorflow', 'workspace', 'images', 'collectedimages')"
   ]
  },
  {
   "cell_type": "code",
   "execution_count": 5,
   "metadata": {},
   "outputs": [],
   "source": [
    "if not os.path.exists(IMAGES_PATH):\n",
    "    if os.name == 'posix':\n",
    "        !mkdir -p {IMAGES_PATH}\n",
    "    if os.name == 'nt':\n",
    "         !mkdir {IMAGES_PATH}\n",
    "for label in labels:\n",
    "    path = os.path.join(IMAGES_PATH, label)\n",
    "    if not os.path.exists(path):\n",
    "        !mkdir {path}"
   ]
  },
  {
   "cell_type": "markdown",
   "metadata": {},
   "source": [
    "# 4. Capture Images"
   ]
  },
  {
   "cell_type": "code",
   "execution_count": 6,
   "metadata": {},
   "outputs": [],
   "source": [
    "# cap = cv2.VideoCapture(0)\n",
    "# for label in labels:\n",
    "#     print('Collecting images for {}'.format(label))\n",
    "#     time.sleep(5)\n",
    "#     for imgnum in range(number_imgs):\n",
    "#         print('Collecting image {}'.format(imgnum))\n",
    "#         ret, frame = cap.read()\n",
    "#         imgname = os.path.join(IMAGES_PATH,label,label+'.'+'{}.jpg'.format(str(uuid.uuid1())))\n",
    "#         cv2.imwrite(imgname, frame)\n",
    "#         cv2.imshow('frame', frame)\n",
    "#         time.sleep(2)\n",
    "\n",
    "#         if cv2.waitKey(1) & 0xFF == ord('q'):\n",
    "#             break\n",
    "# cap.release()\n",
    "# cv2.destroyAllWindows()"
   ]
  },
  {
   "cell_type": "markdown",
   "metadata": {},
   "source": [
    "# 5. Image Labelling"
   ]
  },
  {
   "cell_type": "code",
   "execution_count": 7,
   "metadata": {},
   "outputs": [
    {
     "name": "stdout",
     "output_type": "stream",
     "text": [
      "Requirement already satisfied: pyqt5 in ./xpd/lib/python3.9/site-packages (5.15.6)\n",
      "Requirement already satisfied: lxml in ./xpd/lib/python3.9/site-packages (4.7.1)\n",
      "Requirement already satisfied: PyQt5-Qt5>=5.15.2 in ./xpd/lib/python3.9/site-packages (from pyqt5) (5.15.2)\n",
      "Requirement already satisfied: PyQt5-sip<13,>=12.8 in ./xpd/lib/python3.9/site-packages (from pyqt5) (12.9.0)\n"
     ]
    }
   ],
   "source": [
    "!pip install --upgrade pyqt5 lxml"
   ]
  },
  {
   "cell_type": "code",
   "execution_count": 8,
   "metadata": {},
   "outputs": [],
   "source": [
    "LABELIMG_PATH = os.path.join('Tensorflow', 'labelimg')"
   ]
  },
  {
   "cell_type": "code",
   "execution_count": 9,
   "metadata": {},
   "outputs": [],
   "source": [
    "if not os.path.exists(LABELIMG_PATH):\n",
    "    !mkdir {LABELIMG_PATH}\n",
    "    !git clone https://github.com/tzutalin/labelImg {LABELIMG_PATH}"
   ]
  },
  {
   "cell_type": "code",
   "execution_count": 10,
   "metadata": {},
   "outputs": [
    {
     "name": "stdout",
     "output_type": "stream",
     "text": [
      "pyrcc5 -o libs/resources.py resources.qrc\r\n"
     ]
    }
   ],
   "source": [
    "if os.name == 'posix':\n",
    "    !cd {LABELIMG_PATH} && make qt5py3\n",
    "if os.name =='nt':\n",
    "    !cd {LABELIMG_PATH} && pyrcc5 -o libs/resources.py resources.qrc"
   ]
  },
  {
   "cell_type": "code",
   "execution_count": null,
   "metadata": {},
   "outputs": [
    {
     "name": "stdout",
     "output_type": "stream",
     "text": [
      "Image:/Users/jonathanli/Dev/Xilinx Package Detection/XPDCourse/Tensorflow/workspace/images/collectedimages/package/package.2b1452ac-6901-11ec-80a1-84ad8d5ec72a.jpg -> Annotation:/Users/jonathanli/Dev/Xilinx Package Detection/XPDCourse/Tensorflow/workspace/images/collectedimages/package/package.2b1452ac-6901-11ec-80a1-84ad8d5ec72a.xml\n",
      "Image:/Users/jonathanli/Dev/Xilinx Package Detection/XPDCourse/Tensorflow/workspace/images/collectedimages/package/package.2c4ff644-6901-11ec-80a1-84ad8d5ec72a.jpg -> Annotation:/Users/jonathanli/Dev/Xilinx Package Detection/XPDCourse/Tensorflow/workspace/images/collectedimages/package/package.2c4ff644-6901-11ec-80a1-84ad8d5ec72a.xml\n",
      "Image:/Users/jonathanli/Dev/Xilinx Package Detection/XPDCourse/Tensorflow/workspace/images/collectedimages/package/package.3b1cac44-6901-11ec-80a1-84ad8d5ec72a.jpg -> Annotation:/Users/jonathanli/Dev/Xilinx Package Detection/XPDCourse/Tensorflow/workspace/images/collectedimages/package/package.3b1cac44-6901-11ec-80a1-84ad8d5ec72a.xml\n",
      "Image:/Users/jonathanli/Dev/Xilinx Package Detection/XPDCourse/Tensorflow/workspace/images/collectedimages/package/package.3c582192-6901-11ec-80a1-84ad8d5ec72a.jpg -> Annotation:/Users/jonathanli/Dev/Xilinx Package Detection/XPDCourse/Tensorflow/workspace/images/collectedimages/package/package.3c582192-6901-11ec-80a1-84ad8d5ec72a.xml\n",
      "Image:/Users/jonathanli/Dev/Xilinx Package Detection/XPDCourse/Tensorflow/workspace/images/collectedimages/package/package.3d944248-6901-11ec-80a1-84ad8d5ec72a.jpg -> Annotation:/Users/jonathanli/Dev/Xilinx Package Detection/XPDCourse/Tensorflow/workspace/images/collectedimages/package/package.3d944248-6901-11ec-80a1-84ad8d5ec72a.xml\n",
      "Image:/Users/jonathanli/Dev/Xilinx Package Detection/XPDCourse/Tensorflow/workspace/images/collectedimages/package/package.3ecfb926-6901-11ec-80a1-84ad8d5ec72a.jpg -> Annotation:/Users/jonathanli/Dev/Xilinx Package Detection/XPDCourse/Tensorflow/workspace/images/collectedimages/package/package.3ecfb926-6901-11ec-80a1-84ad8d5ec72a.xml\n",
      "Image:/Users/jonathanli/Dev/Xilinx Package Detection/XPDCourse/Tensorflow/workspace/images/collectedimages/package/package.4b255032-6901-11ec-80a1-84ad8d5ec72a.jpg -> Annotation:/Users/jonathanli/Dev/Xilinx Package Detection/XPDCourse/Tensorflow/workspace/images/collectedimages/package/package.4b255032-6901-11ec-80a1-84ad8d5ec72a.xml\n",
      "Image:/Users/jonathanli/Dev/Xilinx Package Detection/XPDCourse/Tensorflow/workspace/images/collectedimages/package/package.5b27c2f8-6901-11ec-80a1-84ad8d5ec72a.jpg -> Annotation:/Users/jonathanli/Dev/Xilinx Package Detection/XPDCourse/Tensorflow/workspace/images/collectedimages/package/package.5b27c2f8-6901-11ec-80a1-84ad8d5ec72a.xml\n",
      "Image:/Users/jonathanli/Dev/Xilinx Package Detection/XPDCourse/Tensorflow/workspace/images/collectedimages/package/package.24eb8102-6901-11ec-80a1-84ad8d5ec72a.jpg -> Annotation:/Users/jonathanli/Dev/Xilinx Package Detection/XPDCourse/Tensorflow/workspace/images/collectedimages/package/package.24eb8102-6901-11ec-80a1-84ad8d5ec72a.xml\n",
      "Image:/Users/jonathanli/Dev/Xilinx Package Detection/XPDCourse/Tensorflow/workspace/images/collectedimages/package/package.33b77b8c-6901-11ec-80a1-84ad8d5ec72a.jpg -> Annotation:/Users/jonathanli/Dev/Xilinx Package Detection/XPDCourse/Tensorflow/workspace/images/collectedimages/package/package.33b77b8c-6901-11ec-80a1-84ad8d5ec72a.xml\n",
      "Image:/Users/jonathanli/Dev/Xilinx Package Detection/XPDCourse/Tensorflow/workspace/images/collectedimages/package/package.34f2ca42-6901-11ec-80a1-84ad8d5ec72a.jpg -> Annotation:/Users/jonathanli/Dev/Xilinx Package Detection/XPDCourse/Tensorflow/workspace/images/collectedimages/package/package.34f2ca42-6901-11ec-80a1-84ad8d5ec72a.xml\n",
      "Image:/Users/jonathanli/Dev/Xilinx Package Detection/XPDCourse/Tensorflow/workspace/images/collectedimages/package/package.48acc1be-6901-11ec-80a1-84ad8d5ec72a.jpg -> Annotation:/Users/jonathanli/Dev/Xilinx Package Detection/XPDCourse/Tensorflow/workspace/images/collectedimages/package/package.48acc1be-6901-11ec-80a1-84ad8d5ec72a.xml\n",
      "Image:/Users/jonathanli/Dev/Xilinx Package Detection/XPDCourse/Tensorflow/workspace/images/collectedimages/package/package.53c1275c-6901-11ec-80a1-84ad8d5ec72a.jpg -> Annotation:/Users/jonathanli/Dev/Xilinx Package Detection/XPDCourse/Tensorflow/workspace/images/collectedimages/package/package.53c1275c-6901-11ec-80a1-84ad8d5ec72a.xml\n",
      "Image:/Users/jonathanli/Dev/Xilinx Package Detection/XPDCourse/Tensorflow/workspace/images/collectedimages/package/package.54fd4b8c-6901-11ec-80a1-84ad8d5ec72a.jpg -> Annotation:/Users/jonathanli/Dev/Xilinx Package Detection/XPDCourse/Tensorflow/workspace/images/collectedimages/package/package.54fd4b8c-6901-11ec-80a1-84ad8d5ec72a.xml\n",
      "Image:/Users/jonathanli/Dev/Xilinx Package Detection/XPDCourse/Tensorflow/workspace/images/collectedimages/package/package.58afe000-6901-11ec-80a1-84ad8d5ec72a.jpg -> Annotation:/Users/jonathanli/Dev/Xilinx Package Detection/XPDCourse/Tensorflow/workspace/images/collectedimages/package/package.58afe000-6901-11ec-80a1-84ad8d5ec72a.xml\n",
      "Image:/Users/jonathanli/Dev/Xilinx Package Detection/XPDCourse/Tensorflow/workspace/images/collectedimages/package/package.400af8d2-6901-11ec-80a1-84ad8d5ec72a.jpg -> Annotation:/Users/jonathanli/Dev/Xilinx Package Detection/XPDCourse/Tensorflow/workspace/images/collectedimages/package/package.400af8d2-6901-11ec-80a1-84ad8d5ec72a.xml\n",
      "Image:/Users/jonathanli/Dev/Xilinx Package Detection/XPDCourse/Tensorflow/workspace/images/collectedimages/package/package.5287d4ee-6901-11ec-80a1-84ad8d5ec72a.jpg -> Annotation:/Users/jonathanli/Dev/Xilinx Package Detection/XPDCourse/Tensorflow/workspace/images/collectedimages/package/package.5287d4ee-6901-11ec-80a1-84ad8d5ec72a.xml\n",
      "Image:/Users/jonathanli/Dev/Xilinx Package Detection/XPDCourse/Tensorflow/workspace/images/collectedimages/package/package.5638c918-6901-11ec-80a1-84ad8d5ec72a.jpg -> Annotation:/Users/jonathanli/Dev/Xilinx Package Detection/XPDCourse/Tensorflow/workspace/images/collectedimages/package/package.5638c918-6901-11ec-80a1-84ad8d5ec72a.xml\n",
      "Image:/Users/jonathanli/Dev/Xilinx Package Detection/XPDCourse/Tensorflow/workspace/images/collectedimages/package/package.27636d64-6901-11ec-80a1-84ad8d5ec72a.jpg -> Annotation:/Users/jonathanli/Dev/Xilinx Package Detection/XPDCourse/Tensorflow/workspace/images/collectedimages/package/package.27636d64-6901-11ec-80a1-84ad8d5ec72a.xml\n",
      "Image:/Users/jonathanli/Dev/Xilinx Package Detection/XPDCourse/Tensorflow/workspace/images/collectedimages/package/package.47720b24-6901-11ec-80a1-84ad8d5ec72a.jpg -> Annotation:/Users/jonathanli/Dev/Xilinx Package Detection/XPDCourse/Tensorflow/workspace/images/collectedimages/package/package.47720b24-6901-11ec-80a1-84ad8d5ec72a.xml\n"
     ]
    }
   ],
   "source": [
    "!cd {LABELIMG_PATH} && python3 labelImg.py"
   ]
  },
  {
   "cell_type": "markdown",
   "metadata": {},
   "source": [
    "# 6. Move them into a Training and Testing Partition"
   ]
  },
  {
   "cell_type": "markdown",
   "metadata": {},
   "source": [
    "# OPTIONAL - 7. Compress them for Colab Training"
   ]
  },
  {
   "cell_type": "code",
   "execution_count": null,
   "metadata": {},
   "outputs": [],
   "source": [
    "# TRAIN_PATH = os.path.join('Tensorflow', 'workspace', 'images', 'train')\n",
    "# TEST_PATH = os.path.join('Tensorflow', 'workspace', 'images', 'test')\n",
    "# ARCHIVE_PATH = os.path.join('Tensorflow', 'workspace', 'images', 'archive.tar.gz')"
   ]
  },
  {
   "cell_type": "code",
   "execution_count": null,
   "metadata": {},
   "outputs": [],
   "source": [
    "# !tar -czf {ARCHIVE_PATH} {TRAIN_PATH} {TEST_PATH}"
   ]
  },
  {
   "cell_type": "code",
   "execution_count": null,
   "metadata": {},
   "outputs": [],
   "source": []
  }
 ],
 "metadata": {
  "kernelspec": {
   "display_name": "xpd",
   "language": "python",
   "name": "xpd"
  },
  "language_info": {
   "codemirror_mode": {
    "name": "ipython",
    "version": 3
   },
   "file_extension": ".py",
   "mimetype": "text/x-python",
   "name": "python",
   "nbconvert_exporter": "python",
   "pygments_lexer": "ipython3",
   "version": "3.9.9"
  }
 },
 "nbformat": 4,
 "nbformat_minor": 2
}
